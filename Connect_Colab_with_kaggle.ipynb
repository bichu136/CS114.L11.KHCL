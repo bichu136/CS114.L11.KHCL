{
  "nbformat": 4,
  "nbformat_minor": 0,
  "metadata": {
    "colab": {
      "name": "Connect Colab with kaggle",
      "provenance": [],
      "collapsed_sections": [],
      "include_colab_link": true
    },
    "kernelspec": {
      "name": "python3",
      "display_name": "Python 3"
    }
  },
  "cells": [
    {
      "cell_type": "markdown",
      "metadata": {
        "id": "view-in-github",
        "colab_type": "text"
      },
      "source": [
        "<a href=\"https://colab.research.google.com/github/bichu136/CS114.L11.KHCL/blob/master/Connect_Colab_with_kaggle.ipynb\" target=\"_parent\"><img src=\"https://colab.research.google.com/assets/colab-badge.svg\" alt=\"Open In Colab\"/></a>"
      ]
    },
    {
      "cell_type": "markdown",
      "metadata": {
        "id": "tA2166wJ-EjD"
      },
      "source": [
        "## Upload File Kaggle.json to your drive \n",
        "## Then Sync google drive with colab"
      ]
    },
    {
      "cell_type": "code",
      "metadata": {
        "id": "msCHX2YkDrtJ"
      },
      "source": [
        ""
      ],
      "execution_count": null,
      "outputs": []
    },
    {
      "cell_type": "code",
      "metadata": {
        "id": "wSlFlVqw3Mo2",
        "outputId": "c1500c25-1828-49df-d1a5-fe0446fd301a",
        "colab": {
          "base_uri": "https://localhost:8080/",
          "height": 34
        }
      },
      "source": [
        "from google.colab import drive\n",
        "drive.mount('/content/drive')"
      ],
      "execution_count": null,
      "outputs": [
        {
          "output_type": "stream",
          "text": [
            "Mounted at /content/drive\n"
          ],
          "name": "stdout"
        }
      ]
    },
    {
      "cell_type": "code",
      "metadata": {
        "id": "jkeBh1Dj4GK5",
        "outputId": "b0357bf6-4831-4c67-a950-b52165db9f44",
        "colab": {
          "base_uri": "https://localhost:8080/",
          "height": 34
        }
      },
      "source": [
        "!ls -lha kaggle.json"
      ],
      "execution_count": null,
      "outputs": [
        {
          "output_type": "stream",
          "text": [
            "-rw-r--r-- 1 root root 64 Sep 27 14:02 kaggle.json\n"
          ],
          "name": "stdout"
        }
      ]
    },
    {
      "cell_type": "code",
      "metadata": {
        "id": "7dAxgcH84K6Y"
      },
      "source": [
        "!pip install -q kaggle"
      ],
      "execution_count": null,
      "outputs": []
    },
    {
      "cell_type": "code",
      "metadata": {
        "id": "XiZL8wqb4RvH"
      },
      "source": [
        "!mkdir -p ~/.kaggle\n",
        "!cp ./drive/\"My Drive\"/kaggle.json ~/.kaggle/\n",
        "\n",
        "!chmod 600 ~/.kaggle/kaggle.json"
      ],
      "execution_count": null,
      "outputs": []
    },
    {
      "cell_type": "code",
      "metadata": {
        "id": "D4uZ9jx24crf",
        "outputId": "5905ecd6-3c36-4de8-994d-8f626296ee06",
        "colab": {
          "base_uri": "https://localhost:8080/",
          "height": 408
        }
      },
      "source": [
        "!kaggle datasets list -s handwriting"
      ],
      "execution_count": null,
      "outputs": [
        {
          "output_type": "stream",
          "text": [
            "Warning: Looks like you're using an outdated API Version, please consider updating (server 1.5.6 / client 1.5.4)\n",
            "ref                                                         title                                                size  lastUpdated          downloadCount  \n",
            "----------------------------------------------------------  --------------------------------------------------  -----  -------------------  -------------  \n",
            "landlord/handwriting-recognition                            Handwriting Recognition                               1GB  2020-08-05 17:20:36           1225  \n",
            "tejasreddy/iam-handwriting-top50                            IAM Handwriting Top50                               187MB  2018-06-30 03:08:05           4739  \n",
            "mloey1/ahcd1                                                Arabic Handwritten Characters Dataset                24MB  2019-07-26 19:21:51           4270  \n",
            "mloey1/ahdd1                                                Arabic Handwritten Digits Dataset                    51MB  2017-06-23 12:15:44           2235  \n",
            "anupamwadhwa/handwriting-verification                       Handwriting Verification                            419KB  2018-01-27 17:39:25            219  \n",
            "izasazanita/dyslexia-handwriting-dataset                    Dyslexia Handwriting Dataset                         96MB  2020-09-03 07:17:46             33  \n",
            "BengaliAI/numta                                             NumtaDB: Bengali Handwritten Digits                   2GB  2018-08-14 03:08:59           1753  \n",
            "srustisain/handwriting                                      handwriting                                           2GB  2020-08-10 15:16:35             12  \n",
            "raghavsharma7203/newhandwriting                             Handwriting                                          23MB  2020-04-30 11:34:52              1  \n",
            "clarencezhao/handwritten-math-symbol-dataset                Handwritten math symbol and digit dataset            58MB  2020-05-06 00:05:52            100  \n",
            "pascalbliem/chinese-characters-from-handwritingstyle-fonts  Chinese characters from handwriting-style fonts     576MB  2020-06-10 20:15:50             10  \n",
            "hazrat/uhat-urdu-handwritten-text-dataset                   UHaT: Urdu handwritten text dataset                  43MB  2020-02-17 08:11:52            122  \n",
            "pascalbliem/handwritten-chinese-character-hanzi-datasets    Handwritten Chinese Character (Hanzi) Datasets       13GB  2020-06-05 22:11:44             79  \n",
            "ksw0323/handwriting                                         HandWriting                                           9KB  2019-01-14 11:50:06             37  \n",
            "adarshsinghdikhit/handwriting                               Handwriting                                           1GB  2020-07-31 16:23:15              7  \n",
            "team-ai/parkinson-disease-spiral-drawings                   Parkinson Disease Spiral Drawings                     7MB  2017-08-15 16:39:02            885  \n",
            "wushiguang/chinesecharacter                                 handwriting Chinese characters                        6GB  2020-08-20 01:31:49              5  \n",
            "econdata/accenturedigitalchallenge                          AccentureDigitalChallenge                             7MB  2019-01-19 10:26:14             43  \n",
            "yoctoman/graffiti-st-sophia-cathedral-kyiv                  Glyphs of Graffiti of St. Sophia Cathedral of Kyiv   19MB  2018-09-11 16:55:54             61  \n",
            "datasciencemlclub/burmesecharactersanddigit                 Hand-Written Burmese Characters And Digits           792B  2020-01-26 10:46:40             37  \n"
          ],
          "name": "stdout"
        }
      ]
    },
    {
      "cell_type": "code",
      "metadata": {
        "id": "WTlanNGX4ql9",
        "outputId": "9f998936-1566-41c5-ff49-f88e1649f1cc",
        "colab": {
          "base_uri": "https://localhost:8080/",
          "height": 68
        }
      },
      "source": [
        "!kaggle datasets download -d jessicali9530/lfw-dataset"
      ],
      "execution_count": null,
      "outputs": [
        {
          "output_type": "stream",
          "text": [
            "Downloading lfw-dataset.zip to /content\n",
            " 88% 99.0M/112M [00:00<00:00, 116MB/s]\n",
            "100% 112M/112M [00:00<00:00, 136MB/s] \n"
          ],
          "name": "stdout"
        }
      ]
    }
  ]
}