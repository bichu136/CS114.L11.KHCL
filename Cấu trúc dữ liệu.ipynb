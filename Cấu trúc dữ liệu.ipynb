{
  "nbformat": 4,
  "nbformat_minor": 0,
  "metadata": {
    "colab": {
      "name": "Untitled5.ipynb",
      "provenance": [],
      "toc_visible": true,
      "authorship_tag": "ABX9TyNFYnPrnZzjGZIlHUM0LFnj",
      "include_colab_link": true
    },
    "kernelspec": {
      "name": "python3",
      "display_name": "Python 3"
    }
  },
  "cells": [
    {
      "cell_type": "markdown",
      "metadata": {
        "id": "view-in-github",
        "colab_type": "text"
      },
      "source": [
        "<a href=\"https://colab.research.google.com/github/bichu136/CS114.L11.KHCL/blob/master/C%E1%BA%A5u%20tr%C3%BAc%20d%E1%BB%AF%20li%E1%BB%87u.ipynb\" target=\"_parent\"><img src=\"https://colab.research.google.com/assets/colab-badge.svg\" alt=\"Open In Colab\"/></a>"
      ]
    },
    {
      "cell_type": "markdown",
      "metadata": {
        "id": "wAoGkOzsMODs"
      },
      "source": [
        "# CS114.L11 - Cấu trúc dữ liệu"
      ]
    },
    {
      "cell_type": "markdown",
      "metadata": {
        "id": "FG-0MoS0McEq"
      },
      "source": [
        "## Problem 1: Online Game"
      ]
    },
    {
      "cell_type": "code",
      "metadata": {
        "id": "WAUIIxWNVMXb"
      },
      "source": [
        "set = set()\n",
        "get = input()\n",
        "while get != '0':\n",
        "    check, key = get.split()\n",
        "    if check == '1':\n",
        "        set.add(key)\n",
        "    elif check == '2':\n",
        "        if key in set:\n",
        "            print(1)\n",
        "        else:\n",
        "            print(0)\n",
        "    else:\n",
        "        if key in set:\n",
        "            set.remove(key)\n",
        "    get = input()"
      ],
      "execution_count": null,
      "outputs": []
    },
    {
      "cell_type": "markdown",
      "metadata": {
        "id": "r6bGNu5GMks_"
      },
      "source": [
        "## Problem 2: Online Game 2"
      ]
    },
    {
      "cell_type": "code",
      "metadata": {
        "id": "u5JzAsQlVURb"
      },
      "source": [
        "dict = {}\n",
        "get = input()\n",
        "while get != '0':\n",
        "    check, key = get.split()\n",
        "    if check == '1':\n",
        "        dict[key] = 0\n",
        "    else:\n",
        "        if check == '2':\n",
        "            if key in dict:\n",
        "                print(1)\n",
        "            else:\n",
        "                print(0)\n",
        "        else:\n",
        "            if key in dict:\n",
        "                del dict[key]\n",
        "    get = input()"
      ],
      "execution_count": null,
      "outputs": []
    },
    {
      "cell_type": "markdown",
      "metadata": {
        "id": "jjTy_6_-MqVS"
      },
      "source": [
        "## Problem 3: print mảng 2d"
      ]
    },
    {
      "cell_type": "markdown",
      "metadata": {
        "id": "dpf5yiopSd5u"
      },
      "source": [
        "(chúng em không tìm được hàm nào có sẵn trong python để làm việc này... \n",
        "Vì đây là bài toán in ra màn hình nên chúng em nghĩ là sẽ có.)<br>\n",
        "<br>\n",
        "Với mỗi cột của mảng 2 chiều, ta sẽ tìm ra phần tử nào có chiều dài lớn nhất. Sau đó thêm một lượng dấu \" \" bằng với hiệu 2 chiều dài chuỗi giữa của phần tử mà ta đang xét với phần tử có chiều dài lớn nhất của cột mà chứa giá trị đó.\n"
      ]
    },
    {
      "cell_type": "code",
      "metadata": {
        "id": "TWU7QJyYJang"
      },
      "source": [
        "t = input().split()\n",
        "arr = []\n",
        "for i in range(int(t[0])):\n",
        "  arr.append([str(int(j)) for j in input().split()])\n",
        "_max = [0] *int(t[1])\n",
        "for i in range(int(t[1])):\n",
        "  for j in range(int(t[0])):\n",
        "    if(len(arr[j][i])>_max[i]):\n",
        "      _max[i]=len(arr[j][i])\n",
        "for i in range(int(t[1])):\n",
        "  for j in range(int(t[0])):\n",
        "    _t = _max[i]-len(arr[j][i])\n",
        "    arr[j][i] = \" \"*_t + arr[j][i]\n",
        "\n",
        "\n",
        "for i in range(int(t[0])):\n",
        "  for j in range(int(t[1])):\n",
        "    print(arr[i][j],end = \" \")\n",
        "  print()"
      ],
      "execution_count": null,
      "outputs": []
    },
    {
      "cell_type": "markdown",
      "metadata": {
        "id": "W-9NTxOTMxRz"
      },
      "source": [
        "## Problem 4: Chuỗi Con Palindrome "
      ]
    },
    {
      "cell_type": "markdown",
      "metadata": {
        "id": "rIOpHIHoR0hE"
      },
      "source": [
        "### Ý tưởng thực hiện\n",
        "cho 2 con trỏ chạy trên chuỗi đã nhập vào.Với mỗi chuỗi con có vị trí bắt đầu là i và vị trị kết thúc là j-1, ta đi kiểm tra coi dãy con đó có phải là dãy palindrome hay không, nếu có thì cho biến count tăng lên 1"
      ]
    },
    {
      "cell_type": "code",
      "metadata": {
        "id": "C6zGhpBmNomu"
      },
      "source": [
        "def palindrome(str):\n",
        "    if str == str[::-1]:\n",
        "        return True\n",
        "    return False\n",
        "\n",
        "\n",
        "get = input()\n",
        "counter = 0\n",
        "for i in range(len(get)):\n",
        "    for j in range(i+1, len(get)+1):\n",
        "        if palindrome(get[i:j]):\n",
        "            counter += 1\n",
        "print(counter)"
      ],
      "execution_count": null,
      "outputs": []
    },
    {
      "cell_type": "markdown",
      "metadata": {
        "id": "SUB2fPRZM7jh"
      },
      "source": [
        "## Problem 5: Dãy số nguyên"
      ]
    },
    {
      "cell_type": "markdown",
      "metadata": {
        "id": "UZxqxLKJN3t2"
      },
      "source": [
        "1. Diễn tả Vấn đề:\n",
        "> Tất cả các số nguyên dương được viết trên một dòng liên tiếp nhau tạo thành một dãy số có dạng \"123456789101112131415...\".\n",
        "> Nhiệm vụ của bạn là in ra chữ số thứ n trong dãy đó (chỉ số đầu tiên là 1).\n",
        "\n",
        "2. Input:\n",
        "> Dòng đầu tiên là một số nguyên n(1≤n≤1000) — vị trí chữ số cần in.\n",
        "\n",
        "3. Output:\n",
        "> In ra màn hình chữ số ở vị trí n trong dãy."
      ]
    },
    {
      "cell_type": "markdown",
      "metadata": {
        "id": "fV7VoX_6PfEy"
      },
      "source": [
        "#### Ý tưởng thực hiện:\n",
        "Vì đầu vào là số nguyên n trong khoảng từ 1 đến 1000. Vậy ta có thể tạo ra trước 1 chuỗi có 1000 phần tử có dạng đề cho, bằng cách chèn thêm vào cuối một chuỗi ký tự lần lượt từ là các kí tự của chuỗi con số từ 1 cho đến khi độ dài của chuỗi đó vượt quá 1000. \n",
        "Sau đó chỉ việc truy suất đến kí tự thứ n của dãy đó.\n",
        "\n"
      ]
    },
    {
      "cell_type": "code",
      "metadata": {
        "id": "dCqluEZ9Np44"
      },
      "source": [
        "k = \"\" #initialize empty string\n",
        "n = 0 #initialize number of the array\n",
        "while len(k)<=1000:\n",
        "  n+=1 # increase number\n",
        "  k=k+str(n) # convert number to string and append to the string\n",
        "print(k[int(input())-1]) # access to n-th character."
      ],
      "execution_count": null,
      "outputs": []
    }
  ]
}