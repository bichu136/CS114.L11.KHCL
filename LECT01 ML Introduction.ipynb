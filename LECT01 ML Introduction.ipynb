{
  "nbformat": 4,
  "nbformat_minor": 0,
  "metadata": {
    "colab": {
      "name": "LECT01.ipynb",
      "provenance": [],
      "collapsed_sections": [],
      "authorship_tag": "ABX9TyOJqD4wB8eqngk8y5VGd38U",
      "include_colab_link": true
    },
    "kernelspec": {
      "name": "python3",
      "display_name": "Python 3"
    }
  },
  "cells": [
    {
      "cell_type": "markdown",
      "metadata": {
        "id": "view-in-github",
        "colab_type": "text"
      },
      "source": [
        "<a href=\"https://colab.research.google.com/github/bichu136/CS114.L11.KHCL/blob/master/LECT01%20gi%E1%BB%9Bi%20thi%E1%BB%87u%20v%E1%BB%81%20m%C3%A1y%20h%E1%BB%8Dc.ipynb\" target=\"_parent\"><img src=\"https://colab.research.google.com/assets/colab-badge.svg\" alt=\"Open In Colab\"/></a>"
      ]
    },
    {
      "cell_type": "markdown",
      "metadata": {
        "id": "XbpcnrK1hz-Z"
      },
      "source": [
        "> # **CS114.L11.KHCL**\n",
        "> ## **LECT01**\n",
        "\n",
        "### **Tóm tắt các nội dung tổng quan về Machine Learning.**\n",
        "\n",
        " - Định nghĩa máy học\n",
        " - Sự ra đời của máy học\n",
        " - Ứng dụng\n",
        " - Phân loại các thuật toán\n",
        " - Các hướng nghiên cứu\n",
        "\n",
        "## **1. Máy học là gì?**\n",
        "\n",
        "Là cách máy tính sử dụng các data để trả lời các vấn đề được đặt ra.\n",
        "\n",
        " `Data - > Training - > Model - > Prediction -> Vấn đề cần giải quyết`\n",
        "\n",
        "> Một chương tính máy tính được cho là học để thực hiện một Task từ Experience, theo thời gian sẽ cái thiện được Performance.\n",
        "\n",
        "## **2. Sự ra đời của máy học**\n",
        "### Máy học khác gì so với lập trình truyền thống?\n",
        "  - Trong lập trình truyền thống, các luật ( Rules ) cần được xác định trước để có Input từ Output.\n",
        "  - Đối với máy học, Rules được học từ quá trình Training, qua đó tiên đoán được Output từ Input.\n",
        "\n",
        "**Sự ra đời của máy học giúp ích con người tiết kiệm thời gian, công sức,... trong rất nhiều các khía cạnh của đời sống**\n",
        "\n",
        "## **3.Phân loại các thuật toán**\n",
        "\n",
        "> Các dạng máy học\n",
        "\n",
        "| MACHINE LEARNING |  |\n",
        "| ------ | ------ |\n",
        "| Supervised | Task Driven ( Predict next value ) |\n",
        "| Unsupervised | Data Driven ( Identify Clusters ) |\n",
        "| Reinforcement | Learn from Mistake |\n",
        "\n",
        ">  Được chia ra làm hai loại \n",
        "\n",
        "- Classification ( phân loại )\n",
        "- Regression ( hồi quy )\n",
        "\n",
        "## **4. Ứng dụng**\n",
        "\n",
        "Quộc sông xung quanh ta có rất nhiều các ứng dụng từ máy học.\n",
        "\n",
        "Kể tên một vài ứng dụng có sử dụng máy học.\n",
        "\n",
        "> Amazon Go, hê thống camera giám sát, các phần mềm sử lí ảnh, áp dụng máy học trong các lĩnh vự như y tế ( chuẩn đoán bệnh ), sư phạm, các nghiên cứu khoa học,...\n",
        "\n",
        "Máy học đóng vai trò quan trọng trong quộc sống hiện đại ngày nay.\n",
        "\n",
        "## **5. Các hướng nghiên cứu**\n",
        "\n",
        "- Deep Visual-Semantic Alignments for Generating Image Descriptions\n",
        "\n",
        "- Visual Question Answering\n",
        "\n",
        "- Image / Video Captioning\n",
        "\n",
        "- Text-to-Image Generation\n"
      ]
    }
  ]
}