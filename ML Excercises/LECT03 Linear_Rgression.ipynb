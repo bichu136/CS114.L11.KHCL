{
  "nbformat": 4,
  "nbformat_minor": 0,
  "metadata": {
    "colab": {
      "name": "Linear Rgression.ipynb",
      "provenance": [],
      "collapsed_sections": [],
      "include_colab_link": true
    },
    "kernelspec": {
      "display_name": "Python 3",
      "name": "python3"
    }
  },
  "cells": [
    {
      "cell_type": "markdown",
      "metadata": {
        "id": "view-in-github",
        "colab_type": "text"
      },
      "source": [
        "<a href=\"https://colab.research.google.com/github/bichu136/CS114.L11.KHCL/blob/master/Linear_Rgression.ipynb\" target=\"_parent\"><img src=\"https://colab.research.google.com/assets/colab-badge.svg\" alt=\"Open In Colab\"/></a>"
      ]
    },
    {
      "cell_type": "markdown",
      "metadata": {
        "id": "zfGiOrs8zCu5"
      },
      "source": [
        "# Tổng hợp kiến thức về Linear Regression\n",
        "### Bài toán:\n",
        "Input: Các đặc trưng X\n",
        "Output: Y cần dự đoán\n",
        "\n",
        "#Linear Regression model:\n",
        "Tìm đường thẳng biểu diễn mối liên hệ giữa các X và Y \\\\\n",
        "Đường thẳng có dạng: y = a0 + a1.X1 + a2.x2 + ... + an.xn \\\\\n",
        "Với bài toán chỉ có 1 đặc trưng X, đường thẳng sẽ có dạng: y = ax + b\n",
        "\n",
        "# Cost Function\n",
        "Hàm tính toán chi phí để giúp tìm ra cặp giá trị a, b phù hợp \\\\\n",
        "VD: Residual sum of squares (RSS)\n",
        "\n",
        "# Gradient Descent\n",
        "Là phương pháp cập nhật a, b để giảm cost function\n",
        "\n",
        "# VD\n",
        "Dự đoán giá nhà\n",
        "1. Input: Diện tích nhà\n",
        "1. Output: Giá nhà dự đoán\n",
        "1. Data: Giá của các nhà hàng xóm trong 2 năm gần đây\n"
      ]
    },
    {
      "cell_type": "markdown",
      "metadata": {
        "id": "xx-dBbjm5LXx"
      },
      "source": [
        "# Bài tập về Linear Regression"
      ]
    },
    {
      "cell_type": "markdown",
      "metadata": {
        "id": "qKf4Lp_A99YD"
      },
      "source": [
        "## Single variable"
      ]
    },
    {
      "cell_type": "code",
      "metadata": {
        "id": "rB4xGb8eq_1F",
        "outputId": "69c5d2ce-56f3-460c-b982-f52b1c6a1f9f",
        "colab": {
          "base_uri": "https://localhost:8080/"
        }
      },
      "source": [
        "!wget http://cs.uit.edu.vn/data.txt"
      ],
      "execution_count": 4,
      "outputs": [
        {
          "output_type": "stream",
          "text": [
            "--2020-11-15 17:40:43--  http://cs.uit.edu.vn/data.txt\n",
            "Resolving cs.uit.edu.vn (cs.uit.edu.vn)... 118.69.123.142\n",
            "Connecting to cs.uit.edu.vn (cs.uit.edu.vn)|118.69.123.142|:80... connected.\n",
            "HTTP request sent, awaiting response... 200 OK\n",
            "Length: 84410 (82K) [text/plain]\n",
            "Saving to: ‘data.txt.4’\n",
            "\n",
            "data.txt.4          100%[===================>]  82.43K   260KB/s    in 0.3s    \n",
            "\n",
            "2020-11-15 17:40:44 (260 KB/s) - ‘data.txt.4’ saved [84410/84410]\n",
            "\n"
          ],
          "name": "stdout"
        }
      ]
    },
    {
      "cell_type": "code",
      "metadata": {
        "id": "7N8JeUTkWctn",
        "outputId": "1c7c2310-6441-487f-c916-97fab84b617a",
        "colab": {
          "base_uri": "https://localhost:8080/"
        }
      },
      "source": [
        "!wget http://cs.uit.edu.vn/data3.txt"
      ],
      "execution_count": 9,
      "outputs": [
        {
          "output_type": "stream",
          "text": [
            "--2020-11-15 17:41:22--  http://cs.uit.edu.vn/data3.txt\n",
            "Resolving cs.uit.edu.vn (cs.uit.edu.vn)... 118.69.123.142\n",
            "Connecting to cs.uit.edu.vn (cs.uit.edu.vn)|118.69.123.142|:80... connected.\n",
            "HTTP request sent, awaiting response... 200 OK\n",
            "Length: 178891 (175K) [text/plain]\n",
            "Saving to: ‘data3.txt’\n",
            "\n",
            "data3.txt           100%[===================>] 174.70K   368KB/s    in 0.5s    \n",
            "\n",
            "2020-11-15 17:41:23 (368 KB/s) - ‘data3.txt’ saved [178891/178891]\n",
            "\n"
          ],
          "name": "stdout"
        }
      ]
    },
    {
      "cell_type": "code",
      "metadata": {
        "id": "9rT7Ag7OrsQ_"
      },
      "source": [
        "! cat data.txt"
      ],
      "execution_count": null,
      "outputs": []
    },
    {
      "cell_type": "code",
      "metadata": {
        "id": "EPMv2zioWbjh"
      },
      "source": [
        "! cat data3.txt"
      ],
      "execution_count": null,
      "outputs": []
    },
    {
      "cell_type": "code",
      "metadata": {
        "id": "UddkveWmrxll"
      },
      "source": [
        "import pandas as pd\n",
        "import matplotlib.pyplot as plt\n",
        "import numpy as np\n",
        "from sklearn import datasets, linear_model\n",
        "from sklearn.metrics import mean_squared_error, r2_score"
      ],
      "execution_count": 6,
      "outputs": []
    },
    {
      "cell_type": "code",
      "metadata": {
        "id": "uZDFFtW6_DWL",
        "outputId": "dfdcaf9e-b362-4589-a2f3-089edb936c60",
        "colab": {
          "base_uri": "https://localhost:8080/"
        }
      },
      "source": [
        "# file data.txt\n",
        "data = pd.read_csv('data.txt', header=None)\n",
        "X  = data[0]\n",
        "Y  = data[1]\n",
        "\n",
        "# Split the data into training/testing sets\n",
        "X_train = np.array(X[:-1000])\n",
        "X_test = np.array(X[-1000:])\n",
        "\n",
        "# Split the targets into training/testing sets\n",
        "Y_train = np.array(Y[:-1000])\n",
        "Y_test = np.array(Y[-1000:])\n",
        "\n",
        "print(X.shape)\n",
        "print(X_train.shape)"
      ],
      "execution_count": 7,
      "outputs": [
        {
          "output_type": "stream",
          "text": [
            "(5211,)\n",
            "(4211,)\n"
          ],
          "name": "stdout"
        }
      ]
    },
    {
      "cell_type": "code",
      "metadata": {
        "id": "mb10RYmKXf3K",
        "outputId": "3b447a67-ae2d-4904-c4b7-c09a7da05ea6",
        "colab": {
          "base_uri": "https://localhost:8080/"
        }
      },
      "source": [
        "# file data3.txt\n",
        "data = pd.read_csv('data3.txt', header=None)\n",
        "X3  = data[0]\n",
        "Y3  = data[1]\n",
        "\n",
        "# Split the data into training/testing sets\n",
        "X3_train = np.array(X[:-1000])\n",
        "X3_test = np.array(X[-1000:])\n",
        "\n",
        "# Split the targets into training/testing sets\n",
        "Y3_train = np.array(Y[:-1000])\n",
        "Y3_test = np.array(Y[-1000:])\n",
        "\n",
        "print(X3.shape)\n",
        "print(X3_test.shape)"
      ],
      "execution_count": 10,
      "outputs": [
        {
          "output_type": "stream",
          "text": [
            "(10590,)\n",
            "(1000,)\n"
          ],
          "name": "stdout"
        }
      ]
    },
    {
      "cell_type": "code",
      "metadata": {
        "id": "CBEZsY3NWaUr"
      },
      "source": [
        "def one_feature(X):\n",
        "  return X.reshape(-1, 1)\n",
        "\n",
        "def multi_feature(X, Fe):\n",
        "  X = X.reshape(-1,1)\n",
        "  return np.hstack((X, (np.array(Fe)).reshape(-1, 1) ))\n",
        "\n",
        "def test_feature_engineering(X):\n",
        "  X = X.reshape(-1,1)\n",
        "  return np.hstack((X, np.ones((X.shape[0], 1)) ))\n",
        "\n",
        "def feature_engineering(X, new_X):\n",
        "  X = X.reshape(-1, 1)\n",
        "  new_X = new_X.reshape(-1, 1)\n",
        "  return np.hstack((X, new_X))"
      ],
      "execution_count": 11,
      "outputs": []
    },
    {
      "cell_type": "code",
      "metadata": {
        "id": "ynsCH8HPYtRb"
      },
      "source": [
        "X_trial = X_test.reshape(-1, 1)\n",
        "print(X_trial[:20])\n",
        "X_trial = test_feature_engineering(X_trial)\n",
        "print(X_trial[:20])"
      ],
      "execution_count": null,
      "outputs": []
    },
    {
      "cell_type": "code",
      "metadata": {
        "id": "iSfhdSbP7RQo",
        "outputId": "6bd00ee7-7790-4dcd-ba1b-d36f8de88146",
        "colab": {
          "base_uri": "https://localhost:8080/"
        }
      },
      "source": [
        "print(test_feature_engineering(Y_train))"
      ],
      "execution_count": null,
      "outputs": [
        {
          "output_type": "stream",
          "text": [
            "[[1.20058   1.       ]\n",
            " [0.509774  1.       ]\n",
            " [1.47608   1.       ]\n",
            " ...\n",
            " [2.31565   1.       ]\n",
            " [0.0343877 1.       ]\n",
            " [2.71448   1.       ]]\n"
          ],
          "name": "stdout"
        }
      ]
    },
    {
      "cell_type": "code",
      "metadata": {
        "id": "89177s0yAHZK"
      },
      "source": [
        "# # Single-feature Linear Regression\n",
        "X_train = one_feature(X_train)\n",
        "Y_train = one_feature(Y_train)\n",
        "X_test = one_feature(X_test)\n",
        "Y_test = one_feature(Y_test)"
      ],
      "execution_count": null,
      "outputs": []
    },
    {
      "cell_type": "code",
      "metadata": {
        "id": "ryClSOhlALia"
      },
      "source": [
        "# # Multi-feature Linear Regression\n",
        "# h = a*x -> h = a*x1 + b*x0 with x0 = 1\n",
        "X_train = test_feature_engineering(X_train)\n",
        "Y_train = test_feature_engineering(Y_train)\n",
        "\n",
        "# h = a*x -> h = a*x1 + b*x0 with x0 = 1\n",
        "X_test = test_feature_engineering(X_test)\n",
        "Y_test = test_feature_engineering(Y_test)"
      ],
      "execution_count": null,
      "outputs": []
    },
    {
      "cell_type": "code",
      "metadata": {
        "id": "VnlJEugsvEBr",
        "outputId": "ee924a4c-7437-472a-cba6-1fb04e7516a7",
        "colab": {
          "base_uri": "https://localhost:8080/",
          "height": 336
        }
      },
      "source": [
        "# Create linear regression object\n",
        "regr = linear_model.LinearRegression()\n",
        "\n",
        "# Train the model using the training sets\n",
        "regr.fit(X_train, Y_train)\n",
        "\n",
        "\n",
        "# Make predictions using the testing set\n",
        "Y_pred = regr.predict(X_test)\n",
        "\n",
        "# The coefficients\n",
        "print('Coefficients: \\n', regr.coef_)\n",
        "# The mean squared error\n",
        "print('Mean squared error: %.6f'\n",
        "      % mean_squared_error(Y_test, Y_pred))\n",
        "# The coefficient of determination: 1 is perfect prediction\n",
        "print('Coefficient of determination: %.6f'\n",
        "      % r2_score(Y_test, Y_pred))\n",
        "\n",
        "# Plot outputs\n",
        "plt.scatter(X_test, Y_test,  color='black')\n",
        "plt.plot(X_test, Y_pred, color='blue', linewidth=3)\n",
        "\n",
        "plt.xticks(())\n",
        "plt.yticks(())\n",
        "\n",
        "plt.show()"
      ],
      "execution_count": null,
      "outputs": [
        {
          "output_type": "stream",
          "text": [
            "Coefficients: \n",
            " [[2.84130124e-07 0.00000000e+00]\n",
            " [0.00000000e+00 0.00000000e+00]]\n",
            "Mean squared error: 0.000532\n",
            "Coefficient of determination: 0.999196\n"
          ],
          "name": "stdout"
        },
        {
          "output_type": "display_data",
          "data": {
            "image/png": "[encoded data removed]",
            "text/plain": [
              "<Figure size 432x288 with 1 Axes>"
            ]
          },
          "metadata": {
            "tags": []
          }
        }
      ]
    },
    {
      "cell_type": "code",
      "metadata": {
        "id": "o1vIsSpob1E2",
        "outputId": "7b1d33ba-bea5-4235-9b99-0f273bae2712",
        "colab": {
          "base_uri": "https://localhost:8080/"
        }
      },
      "source": [
        "# # Create multi-feature dataset processing\n",
        "log2_X = [np.log2(val) for val in X_train[:]]\n",
        "log2_X = np.array(log2_X)\n",
        "X_train = feature_engineering(X_train, log2_X)\n",
        "\n",
        "log2_X = [np.log2(val) for val in X_test[:]]\n",
        "log2_X = np.array(log2_X)\n",
        "X_test = feature_engineering(X_test, log2_X)\n",
        "\n",
        "print(X_train.shape)"
      ],
      "execution_count": 12,
      "outputs": [
        {
          "output_type": "stream",
          "text": [
            "(4211, 2)\n"
          ],
          "name": "stdout"
        }
      ]
    },
    {
      "cell_type": "code",
      "metadata": {
        "id": "_oHSQXcR-hl8",
        "outputId": "03e8b25e-a1c4-45a3-cea2-3411644e182d",
        "colab": {
          "base_uri": "https://localhost:8080/",
          "height": 346
        }
      },
      "source": [
        "# Create linear regression object\n",
        "regr = linear_model.LinearRegression()\n",
        "\n",
        "# Train the model using the training sets\n",
        "regr.fit(X_train, Y_train)\n",
        "\n",
        "\n",
        "# Make predictions using the testing set\n",
        "Y_pred = regr.predict(X_test)\n",
        "\n",
        "# The coefficients\n",
        "print('Coefficients: \\n', regr.coef_)\n",
        "# The mean squared error\n",
        "print('Mean squared error: %.6f'\n",
        "      % mean_squared_error(Y_test, Y_pred))\n",
        "# The coefficient of determination: 1 is perfect prediction\n",
        "print('Coefficient of determination: %.6f'\n",
        "      % r2_score(Y_test, Y_pred))\n",
        "\n",
        "# Plot outputs\n",
        "fig, ax = plt.subplots(nrows=2, ncols=2)\n",
        "ax[0, 0].scatter(X_test[:, 0], Y_test,  color='black')\n",
        "ax[1, 0].plot(X_test[:, 0], Y_pred, color='blue', linewidth=3)\n",
        "\n",
        "ax[0, 1].scatter(X_test[:, 1], Y_test,  color='black')\n",
        "ax[1, 1].plot(X_test[:, 1], Y_pred, color='blue', linewidth=3)\n",
        "\n",
        "plt.xticks(())\n",
        "plt.yticks(())\n",
        "\n",
        "plt.show()"
      ],
      "execution_count": 20,
      "outputs": [
        {
          "output_type": "stream",
          "text": [
            "Coefficients: \n",
            " [ 2.91772880e-07 -1.75271575e-02]\n",
            "Mean squared error: 0.000875\n",
            "Coefficient of determination: 0.998678\n"
          ],
          "name": "stdout"
        },
        {
          "output_type": "display_data",
          "data": {
            "image/png": "[encoded data removed]",
            "text/plain": [
              "<Figure size 432x288 with 4 Axes>"
            ]
          },
          "metadata": {
            "tags": [],
            "needs_background": "light"
          }
        }
      ]
    }
  ]
}