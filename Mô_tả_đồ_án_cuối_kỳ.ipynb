{
  "nbformat": 4,
  "nbformat_minor": 0,
  "metadata": {
    "colab": {
      "name": "Mô tả đồ án cuối kỳ.ipynb",
      "provenance": [],
      "collapsed_sections": [],
      "authorship_tag": "ABX9TyPBOMsuGEIX9z02bkYPL5ln",
      "include_colab_link": true
    },
    "kernelspec": {
      "name": "python3",
      "display_name": "Python 3"
    }
  },
  "cells": [
    {
      "cell_type": "markdown",
      "metadata": {
        "id": "view-in-github",
        "colab_type": "text"
      },
      "source": [
        "<a href=\"https://colab.research.google.com/github/bichu136/CS114.L11.KHCL/blob/master/M%C3%B4_t%E1%BA%A3_%C4%91%E1%BB%93_%C3%A1n_cu%E1%BB%91i_k%E1%BB%B3.ipynb\" target=\"_parent\"><img src=\"https://colab.research.google.com/assets/colab-badge.svg\" alt=\"Open In Colab\"/></a>"
      ]
    },
    {
      "cell_type": "markdown",
      "metadata": {
        "id": "edSY4VXD-I1i"
      },
      "source": [
        "# Bài toán: **Banana Dectection**"
      ]
    },
    {
      "cell_type": "markdown",
      "metadata": {
        "id": "cn4xPmqn-WbN"
      },
      "source": [
        "# 1. Mô tả bài toán \n",
        "## Input\n",
        "Một bức ảnh có nhiều nhất 10 quả chuối\n",
        "## Output\n",
        "Các ô hình chữ nhật nhỏ nhất có 1 quả chuối trong bức ảnh (vị trí điểm điểm đầu và điểm cuối (được lưu dưới định dạng file riêng)"
      ]
    },
    {
      "cell_type": "markdown",
      "metadata": {
        "id": "LSEyQC1U_2nu"
      },
      "source": [
        "# 2. Mô tả dữ liệu:\n",
        "## Cách thức xây dựng:\n",
        "### Tập ảnh:\n",
        "- Mỗi thành viên trong nhóm mỗi ngày mua chuối về và chụp ảnh\n",
        "- Với một hay nhiều quả chuối thì sẽ có nhiều cách thức tạo ảnh:\n",
        "+ Một quả chuối với nhiều gốc độ và hoàn cảnh khác nhau (độ sáng khác nhau, góc chụp khác nhau\n",
        "+ Nhiều quả chuối (hoặc nải chuối) và kèm một số vật thể khác (chi tiết ở phần độ đa dạng)\n",
        "+ Ảnh từ google\n",
        "## Tập mô tả:\n",
        "+ Với mỗi ảnh sẽ có một file chú thích riêng về vị trí của từng quả chuối trong\n",
        "ảnh\n",
        "+ Sử dụng công cụ labelImg để vẽ các ô hình chữ nhật bao quanh từng quả chuối bằng tay\n",
        "+ Công cụ labelImg sẽ trả về file xml chứa thông tin tọa độ điểm đầu và cuối của từng ô hình chữ nhật đã vẽ\n",
        "+ Tên của file xml sẽ trùng với tên của ảnh gốc\n",
        "### Dataset:\n",
        "+ Là lấy tập ảnh và tập mô tả để chung 1 thư mục\n",
        "## Số lượng, độ đa dạng:\n",
        "### Số lượng: 305 tấm\n",
        "### Độ đa dạng:\n",
        "+ Một quả chuối với nhiều gốc độ và hoàn cảnh khác nhau\n",
        "+ Độ sáng khác nhau (có đèn)\n",
        "+ Trên các nền khác nhau (dĩa, bàn kiếng, bàn đá, bàn gỗ, tay người, )\n",
        "+ Chụp cạnh các vật thể khác (bình giữ nhiệt, giấy cuộn, laptop, quạt, bánh tráng nướng, quả nhãn, ...)\n",
        "+ Background: tường, ghế shofa,...)\n",
        "+ Chuối vàng, chuối xanh\n",
        "+ Nhiều quả chuối, nải chuối, chuối bị cắn/cắt, chuối lột vỏ (1 phần và toàn phần)\n",
        "+ Ảnh từ google (chuối và các sản phẩm làm từ chuối)\n",
        "## Các thao tác tiền xử lý dữ liệu\n",
        "- Resize ảnh về hình vuông\n",
        "- \n",
        "## Phân chia (split) - train_val_test\n",
        "- Train: 70% tập dataset\n",
        "- Val: 30% tập dataset\n",
        "- Test: một số ảnh khác với tập dataset (chưa hoàn thành)\n",
        "+ VD: đặt quả chuối trên nền có màu khác"
      ]
    },
    {
      "cell_type": "markdown",
      "metadata": {
        "id": "iYD7QBw3ZgjW"
      },
      "source": [
        "# 3. Mô tả về đặc trưng\r\n",
        "...content..."
      ]
    },
    {
      "cell_type": "markdown",
      "metadata": {
        "id": "QT_PevqBZqkT"
      },
      "source": [
        "# 4. Mô tả về thuật toán máy học\r\n",
        "- Mask RCNN"
      ]
    },
    {
      "cell_type": "markdown",
      "metadata": {
        "id": "wD9Qbi1dZu6j"
      },
      "source": [
        "# 5. Cài đặt, tinh chỉnh tham số\r\n",
        "- Đã cài đặt chạy với dataset tự thu thập"
      ]
    },
    {
      "cell_type": "markdown",
      "metadata": {
        "id": "0z_TUpqfZ9ad"
      },
      "source": [
        "# 6. Đánh giá kết quả, kết luận\r\n",
        "Content"
      ]
    },
    {
      "cell_type": "markdown",
      "metadata": {
        "id": "7K1Ss7GUaCOW"
      },
      "source": [
        ""
      ]
    }
  ]
}