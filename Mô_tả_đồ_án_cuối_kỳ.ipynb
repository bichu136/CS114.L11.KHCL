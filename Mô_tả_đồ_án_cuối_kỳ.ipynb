{
  "nbformat": 4,
  "nbformat_minor": 0,
  "metadata": {
    "colab": {
      "name": "Mô tả đồ án cuối kỳ.ipynb",
      "provenance": [],
      "collapsed_sections": [],
      "authorship_tag": "ABX9TyOwNi3EYpVW2mD6OlN1Nrtp",
      "include_colab_link": true
    },
    "kernelspec": {
      "name": "python3",
      "display_name": "Python 3"
    }
  },
  "cells": [
    {
      "cell_type": "markdown",
      "metadata": {
        "id": "view-in-github",
        "colab_type": "text"
      },
      "source": [
        "<a href=\"https://colab.research.google.com/github/bichu136/CS114.L11.KHCL/blob/master/M%C3%B4_t%E1%BA%A3_%C4%91%E1%BB%93_%C3%A1n_cu%E1%BB%91i_k%E1%BB%B3.ipynb\" target=\"_parent\"><img src=\"https://colab.research.google.com/assets/colab-badge.svg\" alt=\"Open In Colab\"/></a>"
      ]
    },
    {
      "cell_type": "markdown",
      "metadata": {
        "id": "edSY4VXD-I1i"
      },
      "source": [
        "# Bài toán: **Banana Dectection**"
      ]
    },
    {
      "cell_type": "markdown",
      "metadata": {
        "id": "cn4xPmqn-WbN"
      },
      "source": [
        "## Input\n",
        "Một bức ảnh\n"
      ]
    },
    {
      "cell_type": "markdown",
      "metadata": {
        "id": "YyP17g9e_yn8"
      },
      "source": [
        "## Output\n",
        "Các vị trí của quả chuối trong bức ảnh (vị trí điểm điểm đầu và điểm cuối)"
      ]
    },
    {
      "cell_type": "markdown",
      "metadata": {
        "id": "LSEyQC1U_2nu"
      },
      "source": [
        "# Mô tả dữ liệu:\n",
        "## Cách thức xây dựng:\n",
        "- Mỗi thành viên trong nhóm mỗi ngày mua chuối về và chụp ảnh\n",
        "- Với một hay nhiều quả chuối thì sẽ có nhiều cách thức tạo ảnh:\n",
        "+ Một quả chuối với nhiều gốc độ và hoàn cảnh khác nhau (độ sáng khác nhau, góc chụp khác nhau\n",
        "+ Nhiều quả chuối (hoặc nải chuối) và kèm một số quả khác\n",
        "+ Ảnh từ google\n",
        "-> Với mỗi ảnh sẽ có một filw chú thích riêng về vị trí của từng quả chuối trong\n",
        "ảnh\n",
        "## Số lượng, độ đa dạng:\n",
        "### Số lượng:\n",
        "- Trên 300 tấm\n",
        "### Độ đa dạng:\n",
        "+ Một quả chuối với nhiều gốc độ và hoàn cảnh khác nhau (độ sáng khác nhau, góc chụp khác nhau\n",
        "+ Nhiều quả chuối (hoặc nải chuối) và kèm một số quả khác\n",
        "+ Ảnh từ google\n",
        "## Các thao tác tiền xử lý dữ liệu\n",
        "- Có thể thử với grayscale ảnh\n",
        "## Phân chia (split) - train_dev_test\n",
        "- train: 80% ảnh chụp và ảnh từ google\n",
        "- dev: 20% ảnh chụp và ảnh từ google\n",
        "- test: ảnh chụp ở 1 vị trí khác với ảnh của train và dev\n",
        "+ VD: đặt quả chuối trên nền có màu khác"
      ]
    }
  ]
}