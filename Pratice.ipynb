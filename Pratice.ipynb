{
  "nbformat": 4,
  "nbformat_minor": 0,
  "metadata": {
    "colab": {
      "name": "Pratice.ipynb",
      "provenance": [],
      "collapsed_sections": [],
      "authorship_tag": "ABX9TyNKx3EuYH0bSVBJHGofepvD",
      "include_colab_link": true
    },
    "kernelspec": {
      "display_name": "Python 3",
      "name": "python3"
    }
  },
  "cells": [
    {
      "cell_type": "markdown",
      "metadata": {
        "id": "view-in-github",
        "colab_type": "text"
      },
      "source": [
        "<a href=\"https://colab.research.google.com/github/bichu136/CS114.L11.KHCL/blob/master/Pratice.ipynb\" target=\"_parent\"><img src=\"https://colab.research.google.com/assets/colab-badge.svg\" alt=\"Open In Colab\"/></a>"
      ]
    },
    {
      "cell_type": "code",
      "metadata": {
        "id": "rB4xGb8eq_1F",
        "outputId": "ea1d9f71-424d-475f-ea52-100757f6fe2c",
        "colab": {
          "base_uri": "https://localhost:8080/"
        }
      },
      "source": [
        "!wget http://cs.uit.edu.vn/data.txt"
      ],
      "execution_count": null,
      "outputs": [
        {
          "output_type": "stream",
          "text": [
            "--2020-11-02 00:36:37--  http://cs.uit.edu.vn/data.txt\n",
            "Resolving cs.uit.edu.vn (cs.uit.edu.vn)... 118.69.123.142\n",
            "Connecting to cs.uit.edu.vn (cs.uit.edu.vn)|118.69.123.142|:80... connected.\n",
            "HTTP request sent, awaiting response... 200 OK\n",
            "Length: 84410 (82K) [text/plain]\n",
            "Saving to: ‘data.txt.3’\n",
            "\n",
            "data.txt.3          100%[===================>]  82.43K   185KB/s    in 0.4s    \n",
            "\n",
            "2020-11-02 00:36:38 (185 KB/s) - ‘data.txt.3’ saved [84410/84410]\n",
            "\n"
          ],
          "name": "stdout"
        }
      ]
    },
    {
      "cell_type": "code",
      "metadata": {
        "id": "7N8JeUTkWctn",
        "outputId": "3d24e604-2ea8-4643-cccc-1ba3bf71e4d2",
        "colab": {
          "base_uri": "https://localhost:8080/",
          "height": 306
        }
      },
      "source": [
        "!wget http://cs.uit.edu.vn/data3.txt"
      ],
      "execution_count": null,
      "outputs": [
        {
          "output_type": "stream",
          "text": [
            "--2020-10-18 16:19:01--  http://cs.uit.edu.vn/data3.txt\n",
            "Resolving cs.uit.edu.vn (cs.uit.edu.vn)... 118.69.123.142\n",
            "Connecting to cs.uit.edu.vn (cs.uit.edu.vn)|118.69.123.142|:80... connected.\n",
            "HTTP request sent, awaiting response... Read error (Connection timed out) in headers.\n",
            "Retrying.\n",
            "\n",
            "--2020-10-18 16:34:02--  (try: 2)  http://cs.uit.edu.vn/data3.txt\n",
            "Connecting to cs.uit.edu.vn (cs.uit.edu.vn)|118.69.123.142|:80... connected.\n",
            "HTTP request sent, awaiting response... 200 OK\n",
            "Length: 178891 (175K) [text/plain]\n",
            "Saving to: ‘data3.txt’\n",
            "\n",
            "data3.txt           100%[===================>] 174.70K  --.-KB/s    in 0.1s    \n",
            "\n",
            "2020-10-18 16:34:02 (1.44 MB/s) - ‘data3.txt’ saved [178891/178891]\n",
            "\n"
          ],
          "name": "stdout"
        }
      ]
    },
    {
      "cell_type": "code",
      "metadata": {
        "id": "9rT7Ag7OrsQ_"
      },
      "source": [
        "! cat data.txt"
      ],
      "execution_count": null,
      "outputs": []
    },
    {
      "cell_type": "code",
      "metadata": {
        "id": "EPMv2zioWbjh"
      },
      "source": [
        "! cat data3.txt"
      ],
      "execution_count": null,
      "outputs": []
    },
    {
      "cell_type": "code",
      "metadata": {
        "id": "UddkveWmrxll",
        "outputId": "3d8ca4e3-445c-4502-bec5-4aca9c049604",
        "colab": {
          "base_uri": "https://localhost:8080/"
        }
      },
      "source": [
        "import pandas as pd\n",
        "import matplotlib.pyplot as plt\n",
        "import numpy as np\n",
        "from sklearn import datasets, linear_model\n",
        "from sklearn.metrics import mean_squared_error, r2_score\n",
        "\n",
        "# file data.txt\n",
        "data = pd.read_csv('data.txt', header=None)\n",
        "X  = data[0]\n",
        "Y  = data[1]\n",
        "\n",
        "# Split the data into training/testing sets\n",
        "X_train = np.array(X[:-1000])\n",
        "X_test = np.array(X[-1000:])\n",
        "\n",
        "# Split the targets into training/testing sets\n",
        "Y_train = np.array(Y[:-1000])\n",
        "Y_test = np.array(Y[-1000:])\n",
        "\n",
        "print(X.shape)\n",
        "print(X_test.shape)"
      ],
      "execution_count": null,
      "outputs": [
        {
          "output_type": "stream",
          "text": [
            "(5211,)\n",
            "(1000,)\n"
          ],
          "name": "stdout"
        }
      ]
    },
    {
      "cell_type": "code",
      "metadata": {
        "id": "ynsCH8HPYtRb"
      },
      "source": [
        "X_trial = X_test.reshape(-1, 1)\n",
        "print(X_trial)\n",
        "X_trial = feature_engineering(X_trial)\n",
        "print(X_trial)"
      ],
      "execution_count": null,
      "outputs": []
    },
    {
      "cell_type": "code",
      "metadata": {
        "id": "CBEZsY3NWaUr"
      },
      "source": [
        "def one_feature(X):\n",
        "  return X.reshape(-1, 1)"
      ],
      "execution_count": null,
      "outputs": []
    },
    {
      "cell_type": "code",
      "metadata": {
        "id": "4jDHyyudap-U"
      },
      "source": [
        "def multi_feature(X, Fe):\n",
        "  X = X.reshape(-1,1)\n",
        "  return np.hstack((X, (np.array(Fe)).reshape(-1, 1) ))"
      ],
      "execution_count": null,
      "outputs": []
    },
    {
      "cell_type": "code",
      "metadata": {
        "id": "gx37VzNBZpTM"
      },
      "source": [
        "def feature_engineering(X):\n",
        "  X = X.reshape(-1,1)\n",
        "  return np.hstack((X, np.ones((X.shape[0], 1)) ))"
      ],
      "execution_count": null,
      "outputs": []
    },
    {
      "cell_type": "code",
      "metadata": {
        "id": "mb10RYmKXf3K"
      },
      "source": [
        "# file data3.txt\n",
        "data = pd.read_csv('data3.txt', header=None)\n",
        "X3  = data[0]\n",
        "Y3  = data[1]\n",
        "\n",
        "# Split the data into training/testing sets\n",
        "X3_train = np.array(X[:-1000])\n",
        "X3_test = np.array(X[-1000:])\n",
        "\n",
        "# Split the targets into training/testing sets\n",
        "Y3_train = np.array(Y[:-1000])\n",
        "Y3_test = np.array(Y[-1000:])"
      ],
      "execution_count": null,
      "outputs": []
    },
    {
      "cell_type": "code",
      "metadata": {
        "id": "o1vIsSpob1E2",
        "outputId": "b02564b3-c4b3-4c93-efd2-1eed3b0f8180",
        "colab": {
          "base_uri": "https://localhost:8080/"
        }
      },
      "source": [
        "# # # Multi-feature dataset processing\n",
        "list = [np.log2(val) for val in X[:]]\n",
        "print(len(list))"
      ],
      "execution_count": null,
      "outputs": [
        {
          "output_type": "stream",
          "text": [
            "5211\n"
          ],
          "name": "stdout"
        }
      ]
    },
    {
      "cell_type": "code",
      "metadata": {
        "id": "iSfhdSbP7RQo",
        "outputId": "fe4de4a8-0912-4b0f-df6d-a5720026c8e2",
        "colab": {
          "base_uri": "https://localhost:8080/"
        }
      },
      "source": [
        "print(feature_engineering(Y_train))"
      ],
      "execution_count": null,
      "outputs": [
        {
          "output_type": "stream",
          "text": [
            "[[1.20058   1.       ]\n",
            " [0.509774  1.       ]\n",
            " [1.47608   1.       ]\n",
            " ...\n",
            " [2.31565   1.       ]\n",
            " [0.0343877 1.       ]\n",
            " [2.71448   1.       ]]\n"
          ],
          "name": "stdout"
        }
      ]
    },
    {
      "cell_type": "code",
      "metadata": {
        "id": "VnlJEugsvEBr",
        "outputId": "0cf74b6f-d0a4-487e-fb3a-3f3351201cfb",
        "colab": {
          "base_uri": "https://localhost:8080/",
          "height": 336
        }
      },
      "source": [
        "# Create linear regression object\n",
        "regr = linear_model.LinearRegression()\n",
        "\n",
        "# # # Single-feature Linear Regression\n",
        "# X_train = one_feature(X_train)\n",
        "# Y_train = one_feature(Y_train)\n",
        "# X_test = one_feature(X_test)\n",
        "# Y_test = one_feature(Y_test)\n",
        "\n",
        "\n",
        "# # Multi-feature Linear Regression\n",
        "# h = a*x -> h = a*x1 + b*x0 with x0 = 1\n",
        "X_train = feature_engineering(X_train)\n",
        "Y_train = feature_engineering(Y_train)\n",
        "\n",
        "# h = a*x -> h = a*x1 + b*x0 with x0 = 1\n",
        "X_test = feature_engineering(X_test)\n",
        "Y_test = feature_engineering(Y_test)\n",
        "\n",
        "# Train the model using the training sets\n",
        "regr.fit(X_train, Y_train)\n",
        "\n",
        "\n",
        "# Make predictions using the testing set\n",
        "Y_pred = regr.predict(X_test)\n",
        "\n",
        "# The coefficients\n",
        "print('Coefficients: \\n', regr.coef_)\n",
        "# The mean squared error\n",
        "print('Mean squared error: %.6f'\n",
        "      % mean_squared_error(Y_test, Y_pred))\n",
        "# The coefficient of determination: 1 is perfect prediction\n",
        "print('Coefficient of determination: %.6f'\n",
        "      % r2_score(Y_test, Y_pred))\n",
        "\n",
        "# Plot outputs\n",
        "plt.scatter(X_test, Y_test,  color='black')\n",
        "plt.plot(X_test, Y_pred, color='blue', linewidth=3)\n",
        "\n",
        "plt.xticks(())\n",
        "plt.yticks(())\n",
        "\n",
        "plt.show()"
      ],
      "execution_count": null,
      "outputs": [
        {
          "output_type": "stream",
          "text": [
            "Coefficients: \n",
            " [[2.84130124e-07 0.00000000e+00]\n",
            " [0.00000000e+00 0.00000000e+00]]\n",
            "Mean squared error: 0.000532\n",
            "Coefficient of determination: 0.999196\n"
          ],
          "name": "stdout"
        },
        {
          "output_type": "display_data",
          "data": {
            "image/png": "[encoded data removed]",
            "text/plain": [
              "<Figure size 432x288 with 1 Axes>"
            ]
          },
          "metadata": {
            "tags": []
          }
        }
      ]
    }
  ]
}