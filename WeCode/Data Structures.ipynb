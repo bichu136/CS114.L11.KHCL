{
  "nbformat": 4,
  "nbformat_minor": 0,
  "metadata": {
    "colab": {
      "name": "Untitled5.ipynb",
      "provenance": [],
      "collapsed_sections": [
        "FG-0MoS0McEq",
        "DzqDgrQYV06v",
        "r8dRj3jnWNSQ",
        "y3_sUuAiWR2T",
        "dpf5yiopSd5u",
        "rIOpHIHoR0hE",
        "fV7VoX_6PfEy"
      ],
      "toc_visible": true,
      "authorship_tag": "ABX9TyOIOtGsPDUJ8fTnXQErVX4X",
      "include_colab_link": true
    },
    "kernelspec": {
      "name": "python3",
      "display_name": "Python 3"
    }
  },
  "cells": [
    {
      "cell_type": "markdown",
      "metadata": {
        "id": "view-in-github",
        "colab_type": "text"
      },
      "source": [
        "<a href=\"https://colab.research.google.com/github/bichu136/CS114.L11.KHCL/blob/master/C%E1%BA%A5u%20tr%C3%BAc%20d%E1%BB%AF%20li%E1%BB%87u.ipynb\" target=\"_parent\"><img src=\"https://colab.research.google.com/assets/colab-badge.svg\" alt=\"Open In Colab\"/></a>"
      ]
    },
    {
      "cell_type": "markdown",
      "metadata": {
        "id": "wAoGkOzsMODs"
      },
      "source": [
        "# CS114.L11 - Cấu trúc dữ liệu"
      ]
    },
    {
      "cell_type": "markdown",
      "metadata": {
        "id": "FG-0MoS0McEq"
      },
      "source": [
        "## Problem 1: Online Game"
      ]
    },
    {
      "cell_type": "markdown",
      "metadata": {
        "id": "DzqDgrQYV06v"
      },
      "source": [
        "### Diễn tả vấn đề \n",
        "> &nbsp;&nbsp;&nbsp;&nbsp;&nbsp;&nbsp; Khi làm việc với yêu cầu tìm kiếm, chúng ta có thể sử dụng thuật toán tìm kiếm nhị phân. Tuy nhiên thuật toán tìm kiếm nhị phân chỉ có thể chạy trên cấu trúc dữ liệu mảng và mảng đó phải được sắp xếp thứ tự. Việc sắp xếp thường có độ phức tạp khá cao, điển hình là trong trường hợp sau đây:<br>\n",
        "> &nbsp;&nbsp;&nbsp;&nbsp;&nbsp;&nbsp; Giả định công ty NaViGame đang duy trì một hệ thống server rất lớn đáp ứng cho hàng chục triệu acccount của các game thủ. Hệ thông server này duy trì một danh sách các game thủ đang online cho phép nhà quản trị có thể kiểm tra xem một game thủ bất kỳ nào đó có đang online hay không. Hãy giúp công ty NaViGame xây dựng module kiểm tra game thủ online này.\n",
        "\n",
        "### INPUT\n",
        "> Mỗi dòng của input chứa hai con số a và b. Số a có giá trị là 1 hoặc 2 đại diện cho hai tình huống là có game thủ đăng nhập vào hệ thống và người quản trị vừa nhập một yêu cầu kiểm tra. Số b là mã số của game thủ trong tình huống đó (giá trị b không quá 1 tỷ).Ví dụ như :<br>\n",
        ">&nbsp;&nbsp;&nbsp;&nbsp;&nbsp;&nbsp; dòng: 1 565481 cho biết game thủ với mã số 465481 vừa mới đăng nhập vào hệ thống <br>\n",
        "> &nbsp;&nbsp;&nbsp;&nbsp;&nbsp;&nbsp; dòng: 2 87126 cho biết người quản trị muốn kiểm tra xem game thủ với mã số 87126 có đang online trong hệ thống hay không.\n",
        "> Input sẽ kết thúc bằng dòng chỉ chứa một số 0.\n",
        "\n",
        "### OUTPUT\n",
        "> Ứng với mỗi yêu cầu kiểm tra của nhà quản trị xuất ra trên một dòng giá trị 0 nếu game thủ đó không online. Nếu game thủ đang online, xuất ra 1"
      ]
    },
    {
      "cell_type": "markdown",
      "metadata": {
        "id": "r8dRj3jnWNSQ"
      },
      "source": [
        "### Ý tưởng thực hiện\n",
        "chúng em xài 1 đối tượng kiểu ```set ``` để lưu toàn bộ những người chơi nào đã đăng nhậpnhập."
      ]
    },
    {
      "cell_type": "code",
      "metadata": {
        "id": "WAUIIxWNVMXb"
      },
      "source": [
        "set = set()                   #khởi tạo set cho những người chơi đã đăng nhập.\n",
        "get = input()                 #ghi nhận dòng đầu vào đầu tiên\n",
        "while get != '0':             #kiểm tra đã kết thúc đầu vào hay chưa.\n",
        "    check, key = get.split()  #lấy ra a(check) và b(key)\n",
        "    if check == '1':\n",
        "        set.add(key)          # thêm vào set đăng nhập \n",
        "    elif check == '2':\n",
        "                              # in ra 1 nếu như người chơi đó đã đăng nhập, 0 nếu như chưa.\n",
        "        if key in set:\n",
        "            print(1)\n",
        "        else:\n",
        "            print(0)\n",
        "    get = input()             # ghi nhận đầu vào tiếp theo."
      ],
      "execution_count": null,
      "outputs": []
    },
    {
      "cell_type": "markdown",
      "metadata": {
        "id": "r6bGNu5GMks_"
      },
      "source": [
        "## Problem 2: Online Game 2"
      ]
    },
    {
      "cell_type": "markdown",
      "metadata": {
        "id": "bjFiT21AZLJH"
      },
      "source": [
        "### Diễn tả vấn đề \n",
        "> &nbsp;&nbsp;&nbsp;&nbsp;&nbsp;&nbsp; Khi làm việc với yêu cầu tìm kiếm, chúng ta có thể sử dụng thuật toán tìm kiếm nhị phân. Tuy nhiên thuật toán tìm kiếm nhị phân chỉ có thể chạy trên cấu trúc dữ liệu mảng và mảng đó phải được sắp xếp thứ tự. Việc sắp xếp thường có độ phức tạp khá cao, điển hình là trong trường hợp sau đây:<br>\n",
        "> &nbsp;&nbsp;&nbsp;&nbsp;&nbsp;&nbsp; Giả định công ty NaViGame đang duy trì một hệ thống server rất lớn đáp ứng cho hàng chục triệu acccount của các game thủ. Hệ thông server này duy trì một danh sách các game thủ đang online cho phép nhà quản trị có thể kiểm tra xem một game thủ bất kỳ nào đó có đang online hay không. Hãy giúp công ty NaViGame xây dựng module kiểm tra game thủ online này.\n",
        "\n",
        "### INPUT\n",
        "> Mỗi dòng của input chứa hai con số a và b. Số a có giá trị là 1 hoặc 2 đại diện cho hai tình huống là có game thủ đăng nhập vào hệ thống và người quản trị vừa nhập một yêu cầu kiểm tra. Số b là mã số của game thủ trong tình huống đó (giá trị b không quá 1 tỷ).Ví dụ như :<br>\n",
        ">&nbsp;&nbsp;&nbsp;&nbsp;&nbsp;&nbsp; dòng: 1 565481 cho biết game thủ với mã số 465481 vừa mới đăng nhập vào hệ thống <br>\n",
        "> &nbsp;&nbsp;&nbsp;&nbsp;&nbsp;&nbsp; dòng: 2 87126 cho biết người quản trị muốn kiểm tra xem game thủ với mã số 87126 có đang online trong hệ thống hay không. <br>\n",
        ">&nbsp;&nbsp;&nbsp;&nbsp;&nbsp;&nbsp; dòng: 3 48769 cho biết là game thủ có mã số 48769 vừa đăng xuất khỏi hệ thống.\n",
        "> Input sẽ kết thúc bằng dòng chỉ chứa một số 0.\n",
        "\n",
        "### OUTPUT\n",
        "> Ứng với mỗi yêu cầu kiểm tra của nhà quản trị xuất ra trên một dòng giá trị 0 nếu game thủ đó không online. Nếu game thủ đang online, xuất ra 1"
      ]
    },
    {
      "cell_type": "markdown",
      "metadata": {
        "id": "y3_sUuAiWR2T"
      },
      "source": [
        "### Ý tưởng thực hiện\n",
        "chúng em xài 1 đối tượng kiểu ```set ``` để lưu toàn bộ những người chơi nào đã đăng nhập. xóa người đó ra khỏi set khi người đó thực hiện việc đăng xuất.\n",
        "\n"
      ]
    },
    {
      "cell_type": "code",
      "metadata": {
        "id": "u5JzAsQlVURb"
      },
      "source": [
        "set = set()                   #khởi tạo set cho những người chơi đã đăng nhập.\n",
        "get = input()                 #ghi nhận dòng đầu vào đầu tiên\n",
        "while get != '0':             #kiểm tra đã kết thúc đầu vào hay chưa.\n",
        "    check, key = get.split()  #lấy ra a(check) và b(key)\n",
        "    if check == '1':\n",
        "        set.add(key)          # thêm vào set đăng nhập \n",
        "    elif check == '2':\n",
        "                              # in ra 1 nếu như người chơi đó đã đăng nhập, 0 nếu như chưa.\n",
        "        if key in set:\n",
        "            print(1)\n",
        "        else:\n",
        "            print(0)\n",
        "    else:\n",
        "                              # đăng xuất người chơi bằng cách loại bỏ người chơi đó ra khỏi set.\n",
        "        if key in set:\n",
        "            set.remove(key)\n",
        "    get = input()             # ghi nhận đầu vào tiếp theo."
      ],
      "execution_count": null,
      "outputs": []
    },
    {
      "cell_type": "markdown",
      "metadata": {
        "id": "jjTy_6_-MqVS"
      },
      "source": [
        "## Problem 3: print mảng 2d"
      ]
    },
    {
      "cell_type": "markdown",
      "metadata": {
        "id": "zUGsAy77ZN2x"
      },
      "source": [
        "### Diễn tả vấn đề \n",
        "> Bình đang làm bài tập mảng 2 chiều nâng rất rất cao. Bình cần xuất mảng ra màn hình để quan sát. Tuy nhiên do các số nguyên trong mảng độ dài khác nhau nên khi xuất ra nhìn rất lộn xộn, không biết được số nào ở cột nào. Bạn hãy viết giúp Bình hàm xuất mảng một cách ngay ngắn.<br>\n",
        "### INPUT\n",
        "\n",
        ">Dòng đầu tiên chứa hai số r và c là số dòng và số cột của mảng, mỗi số không quá 1000.<br>\n",
        ">r dòng tiếp theo, mỗi dòng chứa c số nguyên. Đây là các phần tử trong mảng 2 chiều <br>\n",
        "### OUTPUT\n",
        "\n",
        ">Mảng 2 chiều được canh lề phải ở các cột. Tức là chữ số cuối cùng của các cột được viết thẳng hàng với nhau. Các chỗ trống được lấp đầy bằng ký tự khoảng trắng <br>\n",
        ">Lưu ý là đê đảm bảo chính xác ở cuối mỗi dòng của ma trận chỉ được xuất ký tự xuống dòng, không được xuất khoảng trắng thừa."
      ]
    },
    {
      "cell_type": "markdown",
      "metadata": {
        "id": "dpf5yiopSd5u"
      },
      "source": [
        "### Ý tưởng thực hiện\n",
        "(chúng em không tìm được hàm nào có sẵn trong python để làm việc này... \n",
        "Vì đây là bài toán in ra màn hình nên chúng em nghĩ là sẽ có.)<br>\n",
        "<br>\n",
        "Với mỗi cột của mảng 2 chiều, ta sẽ tìm ra phần tử nào có chiều dài lớn nhất. Sau đó thêm một lượng dấu \" \" bằng với hiệu 2 chiều dài chuỗi giữa của phần tử mà ta đang xét với phần tử có chiều dài lớn nhất của cột mà chứa giá trị đó.\n"
      ]
    },
    {
      "cell_type": "code",
      "metadata": {
        "id": "TWU7QJyYJang"
      },
      "source": [
        "#bắt đầu nhập mảng.\n",
        "t = input().split()\n",
        "arr = []\n",
        "for i in range(int(t[0])):\n",
        "  arr.append([str(int(j)) for j in input().split()])\n",
        "kết thúc nhập mảng.\n",
        "\n",
        "_max = [0] *int(t[1])              # Khởi tạo mảng chứa các giá trị chiều dài lớn nhất của từng cột\n",
        "\n",
        "# đi tìm độ dài lớn nhất của từng cột.\n",
        "for i in range(int(t[1])):\n",
        "  for j in range(int(t[0])):\n",
        "    if(len(arr[j][i])>_max[i]):\n",
        "      _max[i]=len(arr[j][i])\n",
        "\n",
        "# thêm dấu \" \" vào trong từng phần tử của mảng.\n",
        "for i in range(int(t[1])):\n",
        "  for j in range(int(t[0])):\n",
        "    _t = _max[i]-len(arr[j][i])\n",
        "    arr[j][i] = \" \"*_t + arr[j][i]\n",
        "\n",
        "#xuất ra màn hình.\n",
        "for i in range(int(t[0])):\n",
        "  for j in range(int(t[1])):\n",
        "    print(arr[i][j],end = \" \")\n",
        "  print()"
      ],
      "execution_count": null,
      "outputs": []
    },
    {
      "cell_type": "markdown",
      "metadata": {
        "id": "W-9NTxOTMxRz"
      },
      "source": [
        "## Problem 4: Chuỗi Con Palindrome "
      ]
    },
    {
      "cell_type": "markdown",
      "metadata": {
        "id": "ebokmNwdaXVY"
      },
      "source": [
        "### Diễn tả vấn đề\n",
        ">Chuỗi Palindrome là chuỗi khi đọc từ trái sang phải hoặc phải sang trái đều giống nhau. Chẳng hạn, aba, bbaabb, abcddcba là các chuỗi palindrome, trong khi mca, tiu không phải. Nhập vào một chuỗi, hãy giúp Bình đếm số chuỗi con palindrome trong chuỗi vừa nhập. Biết chuỗi con là chuỗi có thể được tạo thành bởi một số kí tự liên tiếp từ chuỗi nhập vào. Ví dụ: ab, bcd, ej là chuỗi con của abcdejk, trong khi acde không phải.\n",
        "\n",
        "### INPUT\n",
        "\n",
        "> Một chuỗi chỉ bao gồm các kí tự thường với độ dài chuỗi bé hơn 1000.\n",
        "\n",
        "### OUTPUT\n",
        "\n",
        "> Số lượng chuỗi Palindrome có trong chuỗi nhập vào"
      ]
    },
    {
      "cell_type": "markdown",
      "metadata": {
        "id": "rIOpHIHoR0hE"
      },
      "source": [
        "### Ý tưởng thực hiện\n",
        "cho 2 con trỏ chạy trên chuỗi đã nhập vào.Với mỗi chuỗi con có vị trí bắt đầu là i và vị trị kết thúc là j-1, ta đi kiểm tra coi dãy con đó có phải là dãy palindrome hay không, nếu có thì cho biến count tăng lên 1"
      ]
    },
    {
      "cell_type": "code",
      "metadata": {
        "id": "C6zGhpBmNomu"
      },
      "source": [
        "# hàm kiểm tra coi chuỗi đó có phải là chuỗi palindrome hay không.\n",
        "def palindrome(str):\n",
        "    if str == str[::-1]:\n",
        "        return True\n",
        "    return False\n",
        "\n",
        "\n",
        "get = input()                                                 # Nhận giá trị đầu vào.\n",
        "counter = 0                                                   # Khởi tạo biến đếm \n",
        "\n",
        "#Chọn điểm đầu i\n",
        "for i in range(len(get)):\n",
        "    #Chọn điểm cuối j\n",
        "    for j in range(i+1, len(get)+1):\n",
        "        # Kiểm tra coi chuỗi từ i đến j-1 có phải là chuỗi palindrome hay không.\n",
        "        if palindrome(get[i:j]): \n",
        "            counter += 1\n",
        "print(counter)"
      ],
      "execution_count": null,
      "outputs": []
    },
    {
      "cell_type": "markdown",
      "metadata": {
        "id": "SUB2fPRZM7jh"
      },
      "source": [
        "## Problem 5: Dãy số nguyên"
      ]
    },
    {
      "cell_type": "markdown",
      "metadata": {
        "id": "UZxqxLKJN3t2"
      },
      "source": [
        "### Diễn tả Vấn đề:\n",
        "> Tất cả các số nguyên dương được viết trên một dòng liên tiếp nhau tạo thành một dãy số có dạng \"123456789101112131415...\".\n",
        "> Nhiệm vụ của bạn là in ra chữ số thứ n trong dãy đó (chỉ số đầu tiên là 1).\n",
        "\n",
        "### Input:\n",
        "> Dòng đầu tiên là một số nguyên n(1≤n≤1000) — vị trí chữ số cần in.\n",
        "\n",
        "### Output:\n",
        "> In ra màn hình chữ số ở vị trí n trong dãy."
      ]
    },
    {
      "cell_type": "markdown",
      "metadata": {
        "id": "fV7VoX_6PfEy"
      },
      "source": [
        "#### Ý tưởng thực hiện:\n",
        "Vì đầu vào là số nguyên n trong khoảng từ 1 đến 1000. Vậy ta có thể tạo ra trước 1 chuỗi có 1000 phần tử có dạng đề cho, bằng cách chèn thêm vào cuối một chuỗi ký tự lần lượt từ là các kí tự của chuỗi con số từ 1 cho đến khi độ dài của chuỗi đó vượt quá 1000. \n",
        "Sau đó chỉ việc truy suất đến kí tự thứ n của dãy đó.\n",
        "\n"
      ]
    },
    {
      "cell_type": "code",
      "metadata": {
        "id": "dCqluEZ9Np44"
      },
      "source": [
        "k = \"\"                                  # Khởi tạo chuỗi rỗng\n",
        "n = 0                                   # biến dùng để khởi tạo các con số để thêm vào sau chuỗi ký tự.\n",
        "while len(k)<=1000:\n",
        "  n+=1                                  # tăng biến n lên 1\n",
        "  k=k+str(n)                            # chuyễn n thành chuỗi kĩ tự và thêm vào sau chuỗi k\n",
        "print(k[int(input())-1])                # truy xuất phần tử mà đầu vào yêu cầu."
      ],
      "execution_count": null,
      "outputs": []
    }
  ]
}